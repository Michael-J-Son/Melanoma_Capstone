{
 "cells": [
  {
   "cell_type": "markdown",
   "id": "gross-dictionary",
   "metadata": {},
   "source": [
    "# Melanoma Tumor Size Prediction"
   ]
  },
  {
   "cell_type": "markdown",
   "id": "registered-romance",
   "metadata": {},
   "source": [
    "Melanoma is a type of skin cancer which develops from melanocytes (pigment-producing cells), and its primary cause is ultraviolet (UV) light exposure in individuals with low levels of melanin.\n",
    "It is the most dangerous type of skin cancer. In 2012, the new occurrences were found in 232,000 people around the world.\n",
    "In 2015, there were 3.1 million people with active disease, subsequently leading to 59,800 deaths.\n",
    "Melanomas appear in various shapes, sizes, and colors, hence it is rather challenging to provide an accurate diagnosis or prognosis. The current project aims to predict melanoma tumor sizes based on several different attributes."
   ]
  },
  {
   "cell_type": "markdown",
   "id": "portable-liver",
   "metadata": {},
   "source": [
    "# 1. Data Wrangling"
   ]
  },
  {
   "cell_type": "markdown",
   "id": "disturbed-triple",
   "metadata": {},
   "source": [
    "## 1.1 Imports"
   ]
  },
  {
   "cell_type": "code",
   "execution_count": 1,
   "id": "turned-blame",
   "metadata": {},
   "outputs": [],
   "source": [
    "# Import the libraries necessary for the current task\n",
    "import numpy as np\n",
    "import pandas as pd\n",
    "import matplotlib.pyplot as plt\n",
    "import seaborn as sns\n",
    "import os\n",
    "\n",
    "# pandas Configuration\n",
    "pd.set_option(\"max_rows\", 120)\n",
    "pd.set_option(\"max_columns\", 120)\n",
    "pd.set_option(\"display.max_colwidth\", None)"
   ]
  },
  {
   "cell_type": "markdown",
   "id": "configured-maple",
   "metadata": {},
   "source": [
    "## 1.2 Data"
   ]
  },
  {
   "cell_type": "markdown",
   "id": "pacific-permit",
   "metadata": {},
   "source": [
    "__Data Source__: https://www.kaggle.com/anmolkumar/machine-hack-melanoma-tumor-size-prediction"
   ]
  },
  {
   "cell_type": "code",
   "execution_count": 2,
   "id": "divine-basic",
   "metadata": {},
   "outputs": [],
   "source": [
    "# Load the CSV data\n",
    "melanoma_data = pd.read_csv(r\"C:\\Users\\lastr\\Desktop\\GitHub\\Melanoma_Capstone\\raw_data\\train.csv\")"
   ]
  },
  {
   "cell_type": "markdown",
   "id": "frank-seeking",
   "metadata": {},
   "source": [
    "## 1.3 Initial Data Exploration"
   ]
  },
  {
   "cell_type": "code",
   "execution_count": 3,
   "id": "valuable-coating",
   "metadata": {},
   "outputs": [
    {
     "name": "stdout",
     "output_type": "stream",
     "text": [
      "<class 'pandas.core.frame.DataFrame'>\n",
      "RangeIndex: 9146 entries, 0 to 9145\n",
      "Data columns (total 10 columns):\n",
      " #   Column          Non-Null Count  Dtype  \n",
      "---  ------          --------------  -----  \n",
      " 0   mass_npea       9146 non-null   float64\n",
      " 1   size_npear      9146 non-null   float64\n",
      " 2   malign_ratio    9146 non-null   float64\n",
      " 3   damage_size     9146 non-null   float64\n",
      " 4   exposed_area    9146 non-null   float64\n",
      " 5   std_dev_malign  9146 non-null   float64\n",
      " 6   err_malign      9146 non-null   float64\n",
      " 7   malign_penalty  9146 non-null   int64  \n",
      " 8   damage_ratio    9146 non-null   float64\n",
      " 9   tumor_size      9146 non-null   float64\n",
      "dtypes: float64(9), int64(1)\n",
      "memory usage: 714.7 KB\n"
     ]
    }
   ],
   "source": [
    "# Summary of the data\n",
    "melanoma_data.info()"
   ]
  },
  {
   "cell_type": "code",
   "execution_count": 4,
   "id": "close-snowboard",
   "metadata": {},
   "outputs": [
    {
     "data": {
      "text/html": [
       "<div>\n",
       "<style scoped>\n",
       "    .dataframe tbody tr th:only-of-type {\n",
       "        vertical-align: middle;\n",
       "    }\n",
       "\n",
       "    .dataframe tbody tr th {\n",
       "        vertical-align: top;\n",
       "    }\n",
       "\n",
       "    .dataframe thead th {\n",
       "        text-align: right;\n",
       "    }\n",
       "</style>\n",
       "<table border=\"1\" class=\"dataframe\">\n",
       "  <thead>\n",
       "    <tr style=\"text-align: right;\">\n",
       "      <th></th>\n",
       "      <th>mass_npea</th>\n",
       "      <th>size_npear</th>\n",
       "      <th>malign_ratio</th>\n",
       "      <th>damage_size</th>\n",
       "      <th>exposed_area</th>\n",
       "      <th>std_dev_malign</th>\n",
       "      <th>err_malign</th>\n",
       "      <th>malign_penalty</th>\n",
       "      <th>damage_ratio</th>\n",
       "      <th>tumor_size</th>\n",
       "    </tr>\n",
       "  </thead>\n",
       "  <tbody>\n",
       "    <tr>\n",
       "      <th>0</th>\n",
       "      <td>6930.90</td>\n",
       "      <td>2919.02</td>\n",
       "      <td>0.42116</td>\n",
       "      <td>51.8298</td>\n",
       "      <td>9.888294e+05</td>\n",
       "      <td>109.487</td>\n",
       "      <td>2758.76</td>\n",
       "      <td>72</td>\n",
       "      <td>39.3620</td>\n",
       "      <td>14.103</td>\n",
       "    </tr>\n",
       "    <tr>\n",
       "      <th>1</th>\n",
       "      <td>15635.70</td>\n",
       "      <td>4879.36</td>\n",
       "      <td>0.31206</td>\n",
       "      <td>223.5500</td>\n",
       "      <td>2.058426e+06</td>\n",
       "      <td>248.881</td>\n",
       "      <td>5952.53</td>\n",
       "      <td>240</td>\n",
       "      <td>22.0253</td>\n",
       "      <td>2.648</td>\n",
       "    </tr>\n",
       "    <tr>\n",
       "      <th>2</th>\n",
       "      <td>10376.20</td>\n",
       "      <td>2613.88</td>\n",
       "      <td>0.25191</td>\n",
       "      <td>127.3370</td>\n",
       "      <td>1.434676e+06</td>\n",
       "      <td>160.093</td>\n",
       "      <td>4635.26</td>\n",
       "      <td>73</td>\n",
       "      <td>29.9963</td>\n",
       "      <td>1.688</td>\n",
       "    </tr>\n",
       "    <tr>\n",
       "      <th>3</th>\n",
       "      <td>13093.80</td>\n",
       "      <td>4510.06</td>\n",
       "      <td>0.34444</td>\n",
       "      <td>155.4400</td>\n",
       "      <td>1.812195e+06</td>\n",
       "      <td>173.015</td>\n",
       "      <td>5273.87</td>\n",
       "      <td>32</td>\n",
       "      <td>28.1354</td>\n",
       "      <td>3.796</td>\n",
       "    </tr>\n",
       "    <tr>\n",
       "      <th>4</th>\n",
       "      <td>7545.21</td>\n",
       "      <td>2882.36</td>\n",
       "      <td>0.38201</td>\n",
       "      <td>85.1237</td>\n",
       "      <td>1.043918e+06</td>\n",
       "      <td>124.414</td>\n",
       "      <td>3263.35</td>\n",
       "      <td>57</td>\n",
       "      <td>35.0200</td>\n",
       "      <td>18.023</td>\n",
       "    </tr>\n",
       "  </tbody>\n",
       "</table>\n",
       "</div>"
      ],
      "text/plain": [
       "   mass_npea  size_npear  malign_ratio  damage_size  exposed_area  \\\n",
       "0    6930.90     2919.02       0.42116      51.8298  9.888294e+05   \n",
       "1   15635.70     4879.36       0.31206     223.5500  2.058426e+06   \n",
       "2   10376.20     2613.88       0.25191     127.3370  1.434676e+06   \n",
       "3   13093.80     4510.06       0.34444     155.4400  1.812195e+06   \n",
       "4    7545.21     2882.36       0.38201      85.1237  1.043918e+06   \n",
       "\n",
       "   std_dev_malign  err_malign  malign_penalty  damage_ratio  tumor_size  \n",
       "0         109.487     2758.76              72       39.3620      14.103  \n",
       "1         248.881     5952.53             240       22.0253       2.648  \n",
       "2         160.093     4635.26              73       29.9963       1.688  \n",
       "3         173.015     5273.87              32       28.1354       3.796  \n",
       "4         124.414     3263.35              57       35.0200      18.023  "
      ]
     },
     "execution_count": 4,
     "metadata": {},
     "output_type": "execute_result"
    }
   ],
   "source": [
    "# First 5 entries of the data\n",
    "melanoma_data.head()"
   ]
  },
  {
   "cell_type": "code",
   "execution_count": 5,
   "id": "atomic-daniel",
   "metadata": {},
   "outputs": [
    {
     "data": {
      "text/html": [
       "<div>\n",
       "<style scoped>\n",
       "    .dataframe tbody tr th:only-of-type {\n",
       "        vertical-align: middle;\n",
       "    }\n",
       "\n",
       "    .dataframe tbody tr th {\n",
       "        vertical-align: top;\n",
       "    }\n",
       "\n",
       "    .dataframe thead th {\n",
       "        text-align: right;\n",
       "    }\n",
       "</style>\n",
       "<table border=\"1\" class=\"dataframe\">\n",
       "  <thead>\n",
       "    <tr style=\"text-align: right;\">\n",
       "      <th></th>\n",
       "      <th>mass_npea</th>\n",
       "      <th>size_npear</th>\n",
       "      <th>malign_ratio</th>\n",
       "      <th>damage_size</th>\n",
       "      <th>exposed_area</th>\n",
       "      <th>std_dev_malign</th>\n",
       "      <th>err_malign</th>\n",
       "      <th>malign_penalty</th>\n",
       "      <th>damage_ratio</th>\n",
       "      <th>tumor_size</th>\n",
       "    </tr>\n",
       "  </thead>\n",
       "  <tbody>\n",
       "    <tr>\n",
       "      <th>count</th>\n",
       "      <td>9146.000000</td>\n",
       "      <td>9146.000000</td>\n",
       "      <td>9146.000000</td>\n",
       "      <td>9146.000000</td>\n",
       "      <td>9.146000e+03</td>\n",
       "      <td>9146.000000</td>\n",
       "      <td>9146.000000</td>\n",
       "      <td>9146.000000</td>\n",
       "      <td>9146.000000</td>\n",
       "      <td>9146.000000</td>\n",
       "    </tr>\n",
       "    <tr>\n",
       "      <th>mean</th>\n",
       "      <td>9903.052174</td>\n",
       "      <td>3032.827837</td>\n",
       "      <td>0.303083</td>\n",
       "      <td>103.902118</td>\n",
       "      <td>1.372442e+06</td>\n",
       "      <td>146.304239</td>\n",
       "      <td>3992.936256</td>\n",
       "      <td>69.849661</td>\n",
       "      <td>34.461652</td>\n",
       "      <td>7.723348</td>\n",
       "    </tr>\n",
       "    <tr>\n",
       "      <th>std</th>\n",
       "      <td>4060.577116</td>\n",
       "      <td>1462.334147</td>\n",
       "      <td>0.062533</td>\n",
       "      <td>55.456862</td>\n",
       "      <td>5.646773e+05</td>\n",
       "      <td>70.512177</td>\n",
       "      <td>1780.672859</td>\n",
       "      <td>55.785332</td>\n",
       "      <td>5.972808</td>\n",
       "      <td>6.086852</td>\n",
       "    </tr>\n",
       "    <tr>\n",
       "      <th>min</th>\n",
       "      <td>2864.760000</td>\n",
       "      <td>510.530000</td>\n",
       "      <td>0.114820</td>\n",
       "      <td>10.310100</td>\n",
       "      <td>3.878534e+05</td>\n",
       "      <td>31.970400</td>\n",
       "      <td>1089.190000</td>\n",
       "      <td>0.000000</td>\n",
       "      <td>15.228000</td>\n",
       "      <td>0.000000</td>\n",
       "    </tr>\n",
       "    <tr>\n",
       "      <th>25%</th>\n",
       "      <td>6988.420000</td>\n",
       "      <td>1983.657500</td>\n",
       "      <td>0.259053</td>\n",
       "      <td>64.012525</td>\n",
       "      <td>9.596873e+05</td>\n",
       "      <td>95.853900</td>\n",
       "      <td>3177.682500</td>\n",
       "      <td>31.000000</td>\n",
       "      <td>30.290225</td>\n",
       "      <td>2.320000</td>\n",
       "    </tr>\n",
       "    <tr>\n",
       "      <th>50%</th>\n",
       "      <td>8895.965000</td>\n",
       "      <td>2684.330000</td>\n",
       "      <td>0.301055</td>\n",
       "      <td>88.458300</td>\n",
       "      <td>1.237057e+06</td>\n",
       "      <td>126.138500</td>\n",
       "      <td>3846.320000</td>\n",
       "      <td>54.000000</td>\n",
       "      <td>35.245750</td>\n",
       "      <td>5.060500</td>\n",
       "    </tr>\n",
       "    <tr>\n",
       "      <th>75%</th>\n",
       "      <td>12119.950000</td>\n",
       "      <td>3830.745000</td>\n",
       "      <td>0.343002</td>\n",
       "      <td>134.209000</td>\n",
       "      <td>1.693083e+06</td>\n",
       "      <td>182.251500</td>\n",
       "      <td>4664.577500</td>\n",
       "      <td>91.000000</td>\n",
       "      <td>38.806075</td>\n",
       "      <td>13.336000</td>\n",
       "    </tr>\n",
       "    <tr>\n",
       "      <th>max</th>\n",
       "      <td>36995.400000</td>\n",
       "      <td>13535.000000</td>\n",
       "      <td>0.525300</td>\n",
       "      <td>346.420000</td>\n",
       "      <td>4.978616e+06</td>\n",
       "      <td>528.890000</td>\n",
       "      <td>91983.700000</td>\n",
       "      <td>340.000000</td>\n",
       "      <td>46.546400</td>\n",
       "      <td>20.999000</td>\n",
       "    </tr>\n",
       "  </tbody>\n",
       "</table>\n",
       "</div>"
      ],
      "text/plain": [
       "          mass_npea    size_npear  malign_ratio  damage_size  exposed_area  \\\n",
       "count   9146.000000   9146.000000   9146.000000  9146.000000  9.146000e+03   \n",
       "mean    9903.052174   3032.827837      0.303083   103.902118  1.372442e+06   \n",
       "std     4060.577116   1462.334147      0.062533    55.456862  5.646773e+05   \n",
       "min     2864.760000    510.530000      0.114820    10.310100  3.878534e+05   \n",
       "25%     6988.420000   1983.657500      0.259053    64.012525  9.596873e+05   \n",
       "50%     8895.965000   2684.330000      0.301055    88.458300  1.237057e+06   \n",
       "75%    12119.950000   3830.745000      0.343002   134.209000  1.693083e+06   \n",
       "max    36995.400000  13535.000000      0.525300   346.420000  4.978616e+06   \n",
       "\n",
       "       std_dev_malign    err_malign  malign_penalty  damage_ratio   tumor_size  \n",
       "count     9146.000000   9146.000000     9146.000000   9146.000000  9146.000000  \n",
       "mean       146.304239   3992.936256       69.849661     34.461652     7.723348  \n",
       "std         70.512177   1780.672859       55.785332      5.972808     6.086852  \n",
       "min         31.970400   1089.190000        0.000000     15.228000     0.000000  \n",
       "25%         95.853900   3177.682500       31.000000     30.290225     2.320000  \n",
       "50%        126.138500   3846.320000       54.000000     35.245750     5.060500  \n",
       "75%        182.251500   4664.577500       91.000000     38.806075    13.336000  \n",
       "max        528.890000  91983.700000      340.000000     46.546400    20.999000  "
      ]
     },
     "execution_count": 5,
     "metadata": {},
     "output_type": "execute_result"
    }
   ],
   "source": [
    "# Statistical summary of the data\n",
    "melanoma_data.describe()"
   ]
  },
  {
   "cell_type": "code",
   "execution_count": 6,
   "id": "narrative-honolulu",
   "metadata": {},
   "outputs": [
    {
     "data": {
      "image/png": "[encoded data removed]",
      "text/plain": [
       "<Figure size 1080x1296 with 12 Axes>"
      ]
     },
     "metadata": {
      "needs_background": "light"
     },
     "output_type": "display_data"
    }
   ],
   "source": [
    "# Distributions of feature values\n",
    "melanoma_data.hist(figsize=(15, 18), bins=25)\n",
    "plt.subplots_adjust(hspace=0.5)"
   ]
  },
  {
   "cell_type": "markdown",
   "id": "representative-digest",
   "metadata": {},
   "source": [
    "The correlations between the target feature (tumor_size) and other features are evident in the distribution plots above.\n",
    "Most of these correlations do not come across as a surprise, considering the inherent proprotionality between mass and volume.\n",
    "The distribution of tumor size is right-skewed, which implies that most data points correspond to small tumor sizes."
   ]
  },
  {
   "cell_type": "markdown",
   "id": "generous-telling",
   "metadata": {},
   "source": [
    "## 1.4 Save Data"
   ]
  },
  {
   "cell_type": "code",
   "execution_count": 7,
   "id": "timely-ready",
   "metadata": {},
   "outputs": [],
   "source": [
    "data_path = r\"C:\\Users\\lastr\\Desktop\\GitHub\\Melanoma_Capstone\\data\"\n",
    "\n",
    "if not os.path.exists(data_path):\n",
    "    os.mkdir(data_path)"
   ]
  },
  {
   "cell_type": "code",
   "execution_count": 8,
   "id": "official-precipitation",
   "metadata": {},
   "outputs": [],
   "source": [
    "data_path_melanoma = os.path.join(data_path, \"melanoma.csv\")\n",
    "\n",
    "if not os.path.exists(data_path_melanoma):\n",
    "    melanoma_data.to_csv(data_path_melanoma, index=False)"
   ]
  }
 ],
 "metadata": {
  "kernelspec": {
   "display_name": "Python 3",
   "language": "python",
   "name": "python3"
  },
  "language_info": {
   "codemirror_mode": {
    "name": "ipython",
    "version": 3
   },
   "file_extension": ".py",
   "mimetype": "text/x-python",
   "name": "python",
   "nbconvert_exporter": "python",
   "pygments_lexer": "ipython3",
   "version": "3.8.5"
  }
 },
 "nbformat": 4,
 "nbformat_minor": 5
}
