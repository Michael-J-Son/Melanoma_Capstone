{
 "cells": [
  {
   "cell_type": "markdown",
   "id": "russian-demographic",
   "metadata": {},
   "source": [
    "# Melanoma Tumor Size Prediction"
   ]
  },
  {
   "cell_type": "markdown",
   "id": "cross-doctor",
   "metadata": {},
   "source": [
    "# 3. Modeling"
   ]
  },
  {
   "cell_type": "markdown",
   "id": "driving-geology",
   "metadata": {},
   "source": [
    "## 3.1 Imports"
   ]
  },
  {
   "cell_type": "code",
   "execution_count": null,
   "id": "interested-celtic",
   "metadata": {},
   "outputs": [],
   "source": [
    "# Import the libraries necessary for the current task\n",
    "import numpy as np\n",
    "import pandas as pd\n",
    "import matplotlib.pyplot as plt\n",
    "import seaborn as sns\n",
    "from sklearn.model_selection import (train_test_split)\n",
    "import tensorflow as tf\n",
    "\n",
    "# pandas Configuration\n",
    "pd.set_option(\"max_rows\", 120)\n",
    "pd.set_option(\"max_columns\", 120)\n",
    "pd.set_option(\"display.max_colwidth\", None)"
   ]
  },
  {
   "cell_type": "markdown",
   "id": "armed-oxide",
   "metadata": {},
   "source": [
    "## 3.2 Data"
   ]
  },
  {
   "cell_type": "code",
   "execution_count": null,
   "id": "connected-wales",
   "metadata": {},
   "outputs": [],
   "source": [
    "# Load the CSV data\n",
    "melanoma_data = pd.read_csv(r\"C:\\Users\\lastr\\Desktop\\GitHub\\Melanoma_Capstone\\data\\melanoma.csv\")"
   ]
  },
  {
   "cell_type": "markdown",
   "id": "controlled-beginning",
   "metadata": {},
   "source": []
  },
  {
   "cell_type": "code",
   "execution_count": null,
   "id": "entitled-render",
   "metadata": {},
   "outputs": [],
   "source": []
  }
 ],
 "metadata": {
  "kernelspec": {
   "display_name": "Python 3",
   "language": "python",
   "name": "python3"
  },
  "language_info": {
   "codemirror_mode": {
    "name": "ipython",
    "version": 3
   },
   "file_extension": ".py",
   "mimetype": "text/x-python",
   "name": "python",
   "nbconvert_exporter": "python",
   "pygments_lexer": "ipython3",
   "version": "3.8.5"
  }
 },
 "nbformat": 4,
 "nbformat_minor": 5
}
