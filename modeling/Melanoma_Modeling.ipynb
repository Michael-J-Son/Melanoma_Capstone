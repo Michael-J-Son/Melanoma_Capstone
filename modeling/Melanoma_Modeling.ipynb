{
 "cells": [
  {
   "cell_type": "markdown",
   "metadata": {},
   "source": [
    "# Melanoma Tumor Size Prediction"
   ]
  },
  {
   "cell_type": "markdown",
   "metadata": {},
   "source": [
    "# 3. Modeling"
   ]
  },
  {
   "cell_type": "markdown",
   "metadata": {},
   "source": [
    "## 3.1 Imports"
   ]
  },
  {
   "cell_type": "code",
   "execution_count": 1,
   "metadata": {},
   "outputs": [],
   "source": [
    "# Import the libraries necessary for the current task\n",
    "import os\n",
    "import pickle\n",
    "import numpy as np\n",
    "from numpy.random import seed\n",
    "import pandas as pd\n",
    "import matplotlib.pyplot as plt\n",
    "import seaborn as sns\n",
    "from sklearn import __version__ as sklearn_version\n",
    "from sklearn.preprocessing import scale\n",
    "from sklearn.preprocessing import StandardScaler\n",
    "from sklearn.model_selection import (train_test_split, RandomizedSearchCV, GridSearchCV, learning_curve, cross_validate,\n",
    "                                     cross_val_score, cross_val_predict)\n",
    "from sklearn.metrics import r2_score, mean_absolute_error, mean_squared_error\n",
    "from sklearn.linear_model import LinearRegression\n",
    "from sklearn.ensemble import RandomForestRegressor\n",
    "from sklearn.svm import SVR\n",
    "from sklearn.neural_network import MLPRegressor\n",
    "from keras.models import Sequential\n",
    "from keras.layers import Dense, Dropout\n",
    "from keras.optimizers import Adam\n",
    "import kerastuner as kt\n",
    "from kerastuner import HyperModel\n",
    "\n",
    "# pandas Configuration\n",
    "pd.set_option(\"max_rows\", 120)\n",
    "pd.set_option(\"max_columns\", 120)\n",
    "pd.set_option(\"display.max_colwidth\", None)"
   ]
  },
  {
   "cell_type": "markdown",
   "metadata": {},
   "source": [
    "## 3.2 Data"
   ]
  },
  {
   "cell_type": "markdown",
   "metadata": {},
   "source": [
    "### 3.2.1 Data Loading"
   ]
  },
  {
   "cell_type": "code",
   "execution_count": 2,
   "metadata": {},
   "outputs": [],
   "source": [
    "# Load the CSV data\n",
    "melanoma_data = pd.read_csv(r\"C:\\Users\\lastr\\Desktop\\GitHub\\Melanoma_Capstone\\data\\melanoma.csv\")"
   ]
  },
  {
   "cell_type": "markdown",
   "metadata": {},
   "source": [
    "### 3.2.2 Numerical Data Verification"
   ]
  },
  {
   "cell_type": "code",
   "execution_count": 3,
   "metadata": {},
   "outputs": [
    {
     "data": {
      "text/html": [
       "<div>\n",
       "<style scoped>\n",
       "    .dataframe tbody tr th:only-of-type {\n",
       "        vertical-align: middle;\n",
       "    }\n",
       "\n",
       "    .dataframe tbody tr th {\n",
       "        vertical-align: top;\n",
       "    }\n",
       "\n",
       "    .dataframe thead th {\n",
       "        text-align: right;\n",
       "    }\n",
       "</style>\n",
       "<table border=\"1\" class=\"dataframe\">\n",
       "  <thead>\n",
       "    <tr style=\"text-align: right;\">\n",
       "      <th></th>\n",
       "      <th>mass_npea</th>\n",
       "      <th>size_npear</th>\n",
       "      <th>malign_ratio</th>\n",
       "      <th>damage_size</th>\n",
       "      <th>exposed_area</th>\n",
       "      <th>std_dev_malign</th>\n",
       "      <th>err_malign</th>\n",
       "      <th>malign_penalty</th>\n",
       "      <th>damage_ratio</th>\n",
       "      <th>tumor_size</th>\n",
       "    </tr>\n",
       "  </thead>\n",
       "  <tbody>\n",
       "  </tbody>\n",
       "</table>\n",
       "</div>"
      ],
      "text/plain": [
       "Empty DataFrame\n",
       "Columns: [mass_npea, size_npear, malign_ratio, damage_size, exposed_area, std_dev_malign, err_malign, malign_penalty, damage_ratio, tumor_size]\n",
       "Index: []"
      ]
     },
     "execution_count": 3,
     "metadata": {},
     "output_type": "execute_result"
    }
   ],
   "source": [
    "# Ensure that all values are numerical\n",
    "melanoma_data[~melanoma_data.applymap(np.isreal).all(1)]"
   ]
  },
  {
   "cell_type": "markdown",
   "metadata": {},
   "source": [
    "### 3.2.3 Data Overview"
   ]
  },
  {
   "cell_type": "code",
   "execution_count": 4,
   "metadata": {},
   "outputs": [
    {
     "name": "stdout",
     "output_type": "stream",
     "text": [
      "<class 'pandas.core.frame.DataFrame'>\n",
      "RangeIndex: 9146 entries, 0 to 9145\n",
      "Data columns (total 10 columns):\n",
      " #   Column          Non-Null Count  Dtype  \n",
      "---  ------          --------------  -----  \n",
      " 0   mass_npea       9146 non-null   float64\n",
      " 1   size_npear      9146 non-null   float64\n",
      " 2   malign_ratio    9146 non-null   float64\n",
      " 3   damage_size     9146 non-null   float64\n",
      " 4   exposed_area    9146 non-null   float64\n",
      " 5   std_dev_malign  9146 non-null   float64\n",
      " 6   err_malign      9146 non-null   float64\n",
      " 7   malign_penalty  9146 non-null   int64  \n",
      " 8   damage_ratio    9146 non-null   float64\n",
      " 9   tumor_size      9146 non-null   float64\n",
      "dtypes: float64(9), int64(1)\n",
      "memory usage: 714.7 KB\n"
     ]
    }
   ],
   "source": [
    "# Summary of the data\n",
    "melanoma_data.info()"
   ]
  },
  {
   "cell_type": "code",
   "execution_count": 5,
   "metadata": {},
   "outputs": [
    {
     "data": {
      "text/html": [
       "<div>\n",
       "<style scoped>\n",
       "    .dataframe tbody tr th:only-of-type {\n",
       "        vertical-align: middle;\n",
       "    }\n",
       "\n",
       "    .dataframe tbody tr th {\n",
       "        vertical-align: top;\n",
       "    }\n",
       "\n",
       "    .dataframe thead th {\n",
       "        text-align: right;\n",
       "    }\n",
       "</style>\n",
       "<table border=\"1\" class=\"dataframe\">\n",
       "  <thead>\n",
       "    <tr style=\"text-align: right;\">\n",
       "      <th></th>\n",
       "      <th>mass_npea</th>\n",
       "      <th>size_npear</th>\n",
       "      <th>malign_ratio</th>\n",
       "      <th>damage_size</th>\n",
       "      <th>exposed_area</th>\n",
       "      <th>std_dev_malign</th>\n",
       "      <th>err_malign</th>\n",
       "      <th>malign_penalty</th>\n",
       "      <th>damage_ratio</th>\n",
       "      <th>tumor_size</th>\n",
       "    </tr>\n",
       "  </thead>\n",
       "  <tbody>\n",
       "    <tr>\n",
       "      <th>0</th>\n",
       "      <td>6930.90</td>\n",
       "      <td>2919.02</td>\n",
       "      <td>0.42116</td>\n",
       "      <td>51.8298</td>\n",
       "      <td>9.888294e+05</td>\n",
       "      <td>109.487</td>\n",
       "      <td>2758.76</td>\n",
       "      <td>72</td>\n",
       "      <td>39.3620</td>\n",
       "      <td>14.103</td>\n",
       "    </tr>\n",
       "    <tr>\n",
       "      <th>1</th>\n",
       "      <td>15635.70</td>\n",
       "      <td>4879.36</td>\n",
       "      <td>0.31206</td>\n",
       "      <td>223.5500</td>\n",
       "      <td>2.058426e+06</td>\n",
       "      <td>248.881</td>\n",
       "      <td>5952.53</td>\n",
       "      <td>240</td>\n",
       "      <td>22.0253</td>\n",
       "      <td>2.648</td>\n",
       "    </tr>\n",
       "    <tr>\n",
       "      <th>2</th>\n",
       "      <td>10376.20</td>\n",
       "      <td>2613.88</td>\n",
       "      <td>0.25191</td>\n",
       "      <td>127.3370</td>\n",
       "      <td>1.434676e+06</td>\n",
       "      <td>160.093</td>\n",
       "      <td>4635.26</td>\n",
       "      <td>73</td>\n",
       "      <td>29.9963</td>\n",
       "      <td>1.688</td>\n",
       "    </tr>\n",
       "    <tr>\n",
       "      <th>3</th>\n",
       "      <td>13093.80</td>\n",
       "      <td>4510.06</td>\n",
       "      <td>0.34444</td>\n",
       "      <td>155.4400</td>\n",
       "      <td>1.812195e+06</td>\n",
       "      <td>173.015</td>\n",
       "      <td>5273.87</td>\n",
       "      <td>32</td>\n",
       "      <td>28.1354</td>\n",
       "      <td>3.796</td>\n",
       "    </tr>\n",
       "    <tr>\n",
       "      <th>4</th>\n",
       "      <td>7545.21</td>\n",
       "      <td>2882.36</td>\n",
       "      <td>0.38201</td>\n",
       "      <td>85.1237</td>\n",
       "      <td>1.043918e+06</td>\n",
       "      <td>124.414</td>\n",
       "      <td>3263.35</td>\n",
       "      <td>57</td>\n",
       "      <td>35.0200</td>\n",
       "      <td>18.023</td>\n",
       "    </tr>\n",
       "  </tbody>\n",
       "</table>\n",
       "</div>"
      ],
      "text/plain": [
       "   mass_npea  size_npear  malign_ratio  damage_size  exposed_area  \\\n",
       "0    6930.90     2919.02       0.42116      51.8298  9.888294e+05   \n",
       "1   15635.70     4879.36       0.31206     223.5500  2.058426e+06   \n",
       "2   10376.20     2613.88       0.25191     127.3370  1.434676e+06   \n",
       "3   13093.80     4510.06       0.34444     155.4400  1.812195e+06   \n",
       "4    7545.21     2882.36       0.38201      85.1237  1.043918e+06   \n",
       "\n",
       "   std_dev_malign  err_malign  malign_penalty  damage_ratio  tumor_size  \n",
       "0         109.487     2758.76              72       39.3620      14.103  \n",
       "1         248.881     5952.53             240       22.0253       2.648  \n",
       "2         160.093     4635.26              73       29.9963       1.688  \n",
       "3         173.015     5273.87              32       28.1354       3.796  \n",
       "4         124.414     3263.35              57       35.0200      18.023  "
      ]
     },
     "execution_count": 5,
     "metadata": {},
     "output_type": "execute_result"
    }
   ],
   "source": [
    "# First 5 entries of the data\n",
    "melanoma_data.head()"
   ]
  },
  {
   "cell_type": "markdown",
   "metadata": {},
   "source": [
    "## 3.3 Preparation for Modeling"
   ]
  },
  {
   "cell_type": "markdown",
   "metadata": {},
   "source": [
    "### 3.3.1 Training Validation Split"
   ]
  },
  {
   "cell_type": "code",
   "execution_count": 6,
   "metadata": {},
   "outputs": [],
   "source": [
    "# Split the data\n",
    "X_train, X_validation, y_train, y_validation = train_test_split(\n",
    "    melanoma_data.drop(\"tumor_size\", axis=1), melanoma_data[\"tumor_size\"], test_size=0.3, random_state=100)"
   ]
  },
  {
   "cell_type": "markdown",
   "metadata": {},
   "source": [
    "### 3.3.2 Feature Standardization"
   ]
  },
  {
   "cell_type": "code",
   "execution_count": 7,
   "metadata": {},
   "outputs": [],
   "source": [
    "# Standardize features\n",
    "sc = StandardScaler()\n",
    "\n",
    "X_train_sc = sc.fit_transform(X_train)\n",
    "X_validation_sc = sc.transform(X_validation)"
   ]
  },
  {
   "cell_type": "markdown",
   "metadata": {},
   "source": [
    "## 3.4 Models"
   ]
  },
  {
   "cell_type": "markdown",
   "metadata": {},
   "source": [
    "### 3.4.1 Multiple Linear Regression"
   ]
  },
  {
   "cell_type": "markdown",
   "metadata": {},
   "source": [
    "#### 3.4.1.1 Model Training"
   ]
  },
  {
   "cell_type": "code",
   "execution_count": 8,
   "metadata": {},
   "outputs": [
    {
     "data": {
      "text/plain": [
       "LinearRegression()"
      ]
     },
     "execution_count": 8,
     "metadata": {},
     "output_type": "execute_result"
    }
   ],
   "source": [
    "# Train the model on the training split\n",
    "mlr = LinearRegression()\n",
    "mlr.fit(X_train_sc, y_train)"
   ]
  },
  {
   "cell_type": "markdown",
   "metadata": {},
   "source": [
    "#### 3.4.1.2 Model Predictions"
   ]
  },
  {
   "cell_type": "code",
   "execution_count": 9,
   "metadata": {},
   "outputs": [],
   "source": [
    "# Make predictions on the training and validation sets\n",
    "y_train_pred = mlr.predict(X_train_sc)\n",
    "y_validation_pred = mlr.predict(X_validation_sc)"
   ]
  },
  {
   "cell_type": "markdown",
   "metadata": {},
   "source": [
    "#### 3.4.1.2 Model Performance Assessment on Training and Validation Set"
   ]
  },
  {
   "cell_type": "code",
   "execution_count": 10,
   "metadata": {},
   "outputs": [
    {
     "data": {
      "text/plain": [
       "(0.287127219305388, 0.29305640839378844)"
      ]
     },
     "execution_count": 10,
     "metadata": {},
     "output_type": "execute_result"
    }
   ],
   "source": [
    "# R2\n",
    "r2_score(y_train, y_train_pred), r2_score(y_validation, y_validation_pred)"
   ]
  },
  {
   "cell_type": "code",
   "execution_count": 11,
   "metadata": {},
   "outputs": [
    {
     "data": {
      "text/plain": [
       "(26.299054361360135, 26.434338958698188)"
      ]
     },
     "execution_count": 11,
     "metadata": {},
     "output_type": "execute_result"
    }
   ],
   "source": [
    "# MSE\n",
    "mean_squared_error(y_train, y_train_pred), mean_squared_error(y_validation, y_validation_pred)"
   ]
  },
  {
   "cell_type": "markdown",
   "metadata": {},
   "source": [
    "### 3.4.2 Random Forest"
   ]
  },
  {
   "cell_type": "markdown",
   "metadata": {},
   "source": [
    "#### 3.4.2.1 Model Training"
   ]
  },
  {
   "cell_type": "code",
   "execution_count": 12,
   "metadata": {},
   "outputs": [
    {
     "data": {
      "text/plain": [
       "RandomForestRegressor(random_state=100)"
      ]
     },
     "execution_count": 12,
     "metadata": {},
     "output_type": "execute_result"
    }
   ],
   "source": [
    "# Train the model on the training split\n",
    "rf = RandomForestRegressor(random_state=100)\n",
    "rf.fit(X_train_sc, y_train)"
   ]
  },
  {
   "cell_type": "markdown",
   "metadata": {},
   "source": [
    "#### 3.4.2.2 Hyperparameter Tuning Using Randomized Search"
   ]
  },
  {
   "cell_type": "code",
   "execution_count": 13,
   "metadata": {},
   "outputs": [
    {
     "data": {
      "text/plain": [
       "RandomizedSearchCV(cv=3, estimator=RandomForestRegressor(random_state=100),\n",
       "                   n_iter=50, n_jobs=-1,\n",
       "                   param_distributions={'criterion': ['mse', 'mae'],\n",
       "                                        'max_depth': [5, 10, 15, 20, 30],\n",
       "                                        'max_features': ['auto', 'sqrt',\n",
       "                                                         'log2'],\n",
       "                                        'min_samples_leaf': [1, 2, 5, 8, 10],\n",
       "                                        'min_samples_split': [2, 5, 10, 15, 25],\n",
       "                                        'n_estimators': [20, 40, 60, 80, 100]},\n",
       "                   scoring='neg_mean_squared_error')"
      ]
     },
     "execution_count": 13,
     "metadata": {},
     "output_type": "execute_result"
    }
   ],
   "source": [
    "# Parameter Grid for Randomized Search\n",
    "rf_param_grid = {\n",
    "    \"n_estimators\": [20, 40, 60, 80, 100],\n",
    "    \"criterion\": [\"mse\", \"mae\"],\n",
    "    \"max_depth\": [5, 10, 15, 20, 30],\n",
    "    \"min_samples_split\": [2, 5, 10, 15, 25],\n",
    "    \"min_samples_leaf\": [1, 2, 5, 8, 10],\n",
    "    \"max_features\": [\"auto\", \"sqrt\", \"log2\"]\n",
    "}\n",
    "\n",
    "# Perform Randomized Search\n",
    "rf_rs = RandomizedSearchCV(estimator=rf, param_distributions=rf_param_grid, n_iter=50, scoring=\"neg_mean_squared_error\",\n",
    "                           n_jobs=-1, cv=3)\n",
    "rf_rs.fit(X_train_sc, y_train)"
   ]
  },
  {
   "cell_type": "code",
   "execution_count": 14,
   "metadata": {},
   "outputs": [
    {
     "data": {
      "text/plain": [
       "{'n_estimators': 100,\n",
       " 'min_samples_split': 2,\n",
       " 'min_samples_leaf': 1,\n",
       " 'max_features': 'log2',\n",
       " 'max_depth': 20,\n",
       " 'criterion': 'mse'}"
      ]
     },
     "execution_count": 14,
     "metadata": {},
     "output_type": "execute_result"
    }
   ],
   "source": [
    "# `best_params_` attribute of `rf_rs`\n",
    "rf_rs.best_params_"
   ]
  },
  {
   "cell_type": "markdown",
   "metadata": {},
   "source": [
    "#### 3.4.2.3 Model Predictions"
   ]
  },
  {
   "cell_type": "code",
   "execution_count": 15,
   "metadata": {},
   "outputs": [],
   "source": [
    "# Make predictions on the training and validation sets\n",
    "y_train_pred = rf_rs.best_estimator_.predict(X_train_sc)\n",
    "y_validation_pred = rf_rs.best_estimator_.predict(X_validation_sc)"
   ]
  },
  {
   "cell_type": "markdown",
   "metadata": {},
   "source": [
    "#### 3.4.2.4 Model Performance Assessment on Training and Validation Set"
   ]
  },
  {
   "cell_type": "code",
   "execution_count": 16,
   "metadata": {},
   "outputs": [
    {
     "data": {
      "text/plain": [
       "(0.9310019140667246, 0.5665111387821682)"
      ]
     },
     "execution_count": 16,
     "metadata": {},
     "output_type": "execute_result"
    }
   ],
   "source": [
    "# R2\n",
    "r2_score(y_train, y_train_pred), r2_score(y_validation, y_validation_pred)"
   ]
  },
  {
   "cell_type": "code",
   "execution_count": 17,
   "metadata": {},
   "outputs": [
    {
     "data": {
      "text/plain": [
       "(2.545453357078531, 16.209202018815724)"
      ]
     },
     "execution_count": 17,
     "metadata": {},
     "output_type": "execute_result"
    }
   ],
   "source": [
    "# MSE\n",
    "mean_squared_error(y_train, y_train_pred), mean_squared_error(y_validation, y_validation_pred)"
   ]
  },
  {
   "cell_type": "markdown",
   "metadata": {},
   "source": [
    "### 3.4.3 Support Vector Machine"
   ]
  },
  {
   "cell_type": "markdown",
   "metadata": {},
   "source": [
    "#### 3.4.3.1 Model Training"
   ]
  },
  {
   "cell_type": "code",
   "execution_count": 18,
   "metadata": {},
   "outputs": [
    {
     "data": {
      "text/plain": [
       "SVR()"
      ]
     },
     "execution_count": 18,
     "metadata": {},
     "output_type": "execute_result"
    }
   ],
   "source": [
    "# Train the model on the training split\n",
    "svm = SVR()\n",
    "svm.fit(X_train_sc, y_train)"
   ]
  },
  {
   "cell_type": "markdown",
   "metadata": {},
   "source": [
    "#### 3.4.3.2 Hyperparameter Tuning Using Randomized Search"
   ]
  },
  {
   "cell_type": "code",
   "execution_count": 19,
   "metadata": {},
   "outputs": [
    {
     "data": {
      "text/plain": [
       "RandomizedSearchCV(cv=3, estimator=SVR(), n_iter=50, n_jobs=-1,\n",
       "                   param_distributions={'C': [0.0001, 0.001, 0.01, 1, 10, 100],\n",
       "                                        'epsilon': [0.0001, 0.001, 0.01, 0.1],\n",
       "                                        'gamma': ['scale', 'auto'],\n",
       "                                        'kernel': ['linear', 'rbf', 'poly',\n",
       "                                                   'sigmoid']},\n",
       "                   scoring='neg_mean_squared_error')"
      ]
     },
     "execution_count": 19,
     "metadata": {},
     "output_type": "execute_result"
    }
   ],
   "source": [
    "# Parameter Grid for Randomized Search\n",
    "svm_param_grid = {\n",
    "    \"kernel\": [\"linear\", \"rbf\", \"poly\", \"sigmoid\"],\n",
    "    \"gamma\": [\"scale\", \"auto\"],\n",
    "    \"C\": [0.0001, 0.001, 0.01, 1, 10, 100],\n",
    "    \"epsilon\": [0.0001, 0.001, 0.01, 0.1]\n",
    "}\n",
    "\n",
    "# Perform Randomized Search\n",
    "svm_rs = RandomizedSearchCV(estimator=svm, param_distributions=svm_param_grid, n_iter=50, scoring=\"neg_mean_squared_error\",\n",
    "                            n_jobs=-1, cv=3)\n",
    "svm_rs.fit(X_train_sc, y_train)"
   ]
  },
  {
   "cell_type": "code",
   "execution_count": 20,
   "metadata": {},
   "outputs": [
    {
     "data": {
      "text/plain": [
       "{'kernel': 'rbf', 'gamma': 'auto', 'epsilon': 0.0001, 'C': 100}"
      ]
     },
     "execution_count": 20,
     "metadata": {},
     "output_type": "execute_result"
    }
   ],
   "source": [
    "# `best_params_` attribute of `svm_rs`\n",
    "svm_rs.best_params_"
   ]
  },
  {
   "cell_type": "markdown",
   "metadata": {},
   "source": [
    "#### 3.4.3.3 Model Predictions"
   ]
  },
  {
   "cell_type": "code",
   "execution_count": 21,
   "metadata": {},
   "outputs": [],
   "source": [
    "# Make predictions on the training and validation sets\n",
    "y_train_pred = svm_rs.best_estimator_.predict(X_train_sc)\n",
    "y_validation_pred = svm_rs.best_estimator_.predict(X_validation_sc)"
   ]
  },
  {
   "cell_type": "markdown",
   "metadata": {},
   "source": [
    "#### 3.4.3.4 Model Performance Assessment on Training and Validation Set"
   ]
  },
  {
   "cell_type": "code",
   "execution_count": 22,
   "metadata": {},
   "outputs": [
    {
     "data": {
      "text/plain": [
       "(0.46880823994592435, 0.42422287393072255)"
      ]
     },
     "execution_count": 22,
     "metadata": {},
     "output_type": "execute_result"
    }
   ],
   "source": [
    "# R2\n",
    "r2_score(y_train, y_train_pred), r2_score(y_validation, y_validation_pred)"
   ]
  },
  {
   "cell_type": "code",
   "execution_count": 23,
   "metadata": {},
   "outputs": [
    {
     "data": {
      "text/plain": [
       "(19.59654141985434, 21.52970604146664)"
      ]
     },
     "execution_count": 23,
     "metadata": {},
     "output_type": "execute_result"
    }
   ],
   "source": [
    "# MSE\n",
    "mean_squared_error(y_train, y_train_pred), mean_squared_error(y_validation, y_validation_pred)"
   ]
  },
  {
   "cell_type": "markdown",
   "metadata": {},
   "source": [
    "### 3.4.4 Neural Network: Multi-Layer Perceptron"
   ]
  },
  {
   "cell_type": "markdown",
   "metadata": {},
   "source": [
    "#### 3.4.4.1 Model Training"
   ]
  },
  {
   "cell_type": "code",
   "execution_count": 24,
   "metadata": {},
   "outputs": [
    {
     "data": {
      "text/plain": [
       "MLPRegressor(hidden_layer_sizes=(18, 36, 72, 144, 128, 64, 32, 16, 8, 4, 2, 1),\n",
       "             random_state=100)"
      ]
     },
     "execution_count": 24,
     "metadata": {},
     "output_type": "execute_result"
    }
   ],
   "source": [
    "# Create a multi-layer perceptron model\n",
    "mlp = MLPRegressor(hidden_layer_sizes=(18, 36, 72, 144, 128, 64, 32, 16, 8, 4, 2, 1), random_state=100)\n",
    "mlp.fit(X_train_sc, y_train)"
   ]
  },
  {
   "cell_type": "markdown",
   "metadata": {},
   "source": [
    "#### 3.4.4.2 Hyperparameter Tuning Using Randomized Search"
   ]
  },
  {
   "cell_type": "code",
   "execution_count": 25,
   "metadata": {},
   "outputs": [
    {
     "data": {
      "text/plain": [
       "RandomizedSearchCV(cv=3,\n",
       "                   estimator=MLPRegressor(hidden_layer_sizes=(18, 36, 72, 144,\n",
       "                                                              128, 64, 32, 16,\n",
       "                                                              8, 4, 2, 1),\n",
       "                                          random_state=100),\n",
       "                   n_iter=50, n_jobs=-1,\n",
       "                   param_distributions={'activation': ['logistic', 'tanh',\n",
       "                                                       'relu'],\n",
       "                                        'alpha': [0.0001, 0.001, 0.01, 0.1, 1],\n",
       "                                        'learning_rate': ['constant',\n",
       "                                                          'invscaling',\n",
       "                                                          'adaptive'],\n",
       "                                        'solver': ['lbfgs', 'sgd', 'adam']},\n",
       "                   scoring='neg_mean_squared_error')"
      ]
     },
     "execution_count": 25,
     "metadata": {},
     "output_type": "execute_result"
    }
   ],
   "source": [
    "# Parameter Grid for Randomized Search\n",
    "mlp_param_grid = {\n",
    "    \"activation\": [\"logistic\", \"tanh\", \"relu\"],\n",
    "    \"solver\": [\"lbfgs\", \"sgd\", \"adam\"],\n",
    "    \"alpha\": [0.0001, 0.001, 0.01, 0.1, 1],\n",
    "    \"learning_rate\": [\"constant\", \"invscaling\", \"adaptive\"]\n",
    "}\n",
    "\n",
    "# Perform Randomized Search\n",
    "mlp_rs = RandomizedSearchCV(estimator=mlp, param_distributions=mlp_param_grid, n_iter=50, scoring=\"neg_mean_squared_error\",\n",
    "                           n_jobs=-1, cv=3)\n",
    "mlp_rs.fit(X_train_sc, y_train)"
   ]
  },
  {
   "cell_type": "code",
   "execution_count": 26,
   "metadata": {},
   "outputs": [
    {
     "data": {
      "text/plain": [
       "{'solver': 'sgd',\n",
       " 'learning_rate': 'constant',\n",
       " 'alpha': 1,\n",
       " 'activation': 'tanh'}"
      ]
     },
     "execution_count": 26,
     "metadata": {},
     "output_type": "execute_result"
    }
   ],
   "source": [
    "# `best_params_` attribute of `mlp_rs`\n",
    "mlp_rs.best_params_"
   ]
  },
  {
   "cell_type": "markdown",
   "metadata": {},
   "source": [
    "#### 3.4.4.3 Model Predictions"
   ]
  },
  {
   "cell_type": "code",
   "execution_count": 27,
   "metadata": {},
   "outputs": [],
   "source": [
    "# Make predictions on the training and validation sets\n",
    "y_train_pred = mlp_rs.best_estimator_.predict(X_train_sc)\n",
    "y_validation_pred = mlp_rs.best_estimator_.predict(X_validation_sc)"
   ]
  },
  {
   "cell_type": "markdown",
   "metadata": {},
   "source": [
    "#### 3.4.4.4 Model Performance Assessment on Training and Validation Set"
   ]
  },
  {
   "cell_type": "code",
   "execution_count": 28,
   "metadata": {},
   "outputs": [
    {
     "data": {
      "text/plain": [
       "(0.20922010950781267, 0.20773568280407984)"
      ]
     },
     "execution_count": 28,
     "metadata": {},
     "output_type": "execute_result"
    }
   ],
   "source": [
    "# R2\n",
    "r2_score(y_train, y_train_pred), r2_score(y_validation, y_validation_pred)"
   ]
  },
  {
   "cell_type": "code",
   "execution_count": 29,
   "metadata": {},
   "outputs": [
    {
     "data": {
      "text/plain": [
       "(29.173176324196874, 29.624688241469183)"
      ]
     },
     "execution_count": 29,
     "metadata": {},
     "output_type": "execute_result"
    }
   ],
   "source": [
    "# MSE\n",
    "mean_squared_error(y_train, y_train_pred), mean_squared_error(y_validation, y_validation_pred)"
   ]
  },
  {
   "cell_type": "markdown",
   "metadata": {},
   "source": [
    "### 3.4.5 Deep Learning: Keras Regression"
   ]
  },
  {
   "cell_type": "markdown",
   "metadata": {},
   "source": [
    "#### 3.4.5.1 Hyper Model Construction"
   ]
  },
  {
   "cell_type": "code",
   "execution_count": 30,
   "metadata": {},
   "outputs": [],
   "source": [
    "# Set random seed\n",
    "seed(100)"
   ]
  },
  {
   "cell_type": "code",
   "execution_count": 31,
   "metadata": {},
   "outputs": [],
   "source": [
    "# Create a class derived from HyperModel\n",
    "class krhypermodel(HyperModel):\n",
    "    def __init__(self, input_shape):\n",
    "        self.input_shape = input_shape\n",
    "    \n",
    "    def build(self, hp):\n",
    "        model = Sequential()\n",
    "        model.add(\n",
    "                Dense(\n",
    "                units=hp.Int(\"units\", 18, 153, 9, default=18),\n",
    "                activation=hp.Choice(\n",
    "                    \"dense_activation\",\n",
    "                    values=[\"relu\", \"tanh\", \"softplus\"],\n",
    "                    default=\"relu\"),\n",
    "                input_shape=input_shape\n",
    "            )\n",
    "        )\n",
    "\n",
    "        model.add(\n",
    "                Dropout(\n",
    "                hp.Float(\n",
    "                    'dropout',\n",
    "                    min_value=0.15,\n",
    "                    max_value=0.25,\n",
    "                    default=0.15,\n",
    "                    step=0.05)\n",
    "            )\n",
    "        )\n",
    "        \n",
    "        model.add(\n",
    "                Dense(\n",
    "                units=hp.Int(\"units\", 36, 153, 9, default=36),\n",
    "                activation=hp.Choice(\n",
    "                    \"dense_activation\",\n",
    "                    values=[\"relu\", \"tanh\", \"softplus\"],\n",
    "                    default=\"relu\")\n",
    "            )\n",
    "        )\n",
    "\n",
    "        model.add(\n",
    "                Dropout(\n",
    "                hp.Float(\n",
    "                    'dropout',\n",
    "                    min_value=0.15,\n",
    "                    max_value=0.25,\n",
    "                    default=0.15,\n",
    "                    step=0.05)\n",
    "            )\n",
    "        )\n",
    "        \n",
    "        model.add(\n",
    "                Dense(\n",
    "                units=hp.Int(\"units\", 72, 153, 9, default=72),\n",
    "                activation=hp.Choice(\n",
    "                    \"dense_activation\",\n",
    "                    values=[\"relu\", \"tanh\", \"softplus\"],\n",
    "                    default=\"relu\")\n",
    "            )\n",
    "        )\n",
    "                \n",
    "        model.add(\n",
    "                Dense(\n",
    "                units=hp.Int(\"units\", 144, 153, 9, default=144),\n",
    "                activation=hp.Choice(\n",
    "                    \"dense_activation\",\n",
    "                    values=[\"relu\", \"tanh\", \"softplus\"],\n",
    "                    default=\"relu\")\n",
    "            )\n",
    "        )\n",
    "\n",
    "        model.add(\n",
    "                Dense(\n",
    "                units=hp.Int(\"units\", 128, 136, 8, default=128),\n",
    "                activation=hp.Choice(\n",
    "                    \"dense_activation\",\n",
    "                    values=[\"relu\", \"tanh\", \"softplus\"],\n",
    "                    default=\"relu\")\n",
    "            )\n",
    "        )\n",
    "\n",
    "        model.add(\n",
    "                Dense(\n",
    "                units=hp.Int(\"units\", 64, 136, 8, default=64),\n",
    "                activation=hp.Choice(\n",
    "                    \"dense_activation\",\n",
    "                    values=[\"relu\", \"tanh\", \"softplus\"],\n",
    "                    default=\"relu\")\n",
    "            )\n",
    "        )\n",
    "\n",
    "        model.add(\n",
    "                Dense(\n",
    "                units=hp.Int(\"units\", 32, 136, 8, default=32),\n",
    "                activation=hp.Choice(\n",
    "                    \"dense_activation\",\n",
    "                    values=[\"relu\", \"tanh\", \"softplus\"],\n",
    "                    default=\"relu\")\n",
    "            )\n",
    "        )\n",
    "\n",
    "        model.add(\n",
    "                Dense(\n",
    "                units=hp.Int(\"units\", 16, 136, 8, default=16),\n",
    "                activation=hp.Choice(\n",
    "                    \"dense_activation\",\n",
    "                    values=[\"relu\", \"tanh\", \"softplus\"],\n",
    "                    default=\"relu\")\n",
    "            )\n",
    "        )\n",
    "\n",
    "        model.add(\n",
    "                Dense(\n",
    "                units=hp.Int(\"units\", 8, 136, 8, default=8),\n",
    "                activation=hp.Choice(\n",
    "                    \"dense_activation\",\n",
    "                    values=[\"relu\", \"tanh\", \"softplus\"],\n",
    "                    default=\"relu\")\n",
    "            )\n",
    "        )\n",
    "\n",
    "        model.add(\n",
    "                Dense(\n",
    "                units=hp.Int(\"units\", 4, 136, 8, default=4),\n",
    "                activation=hp.Choice(\n",
    "                    \"dense_activation\",\n",
    "                    values=[\"relu\", \"tanh\", \"softplus\"],\n",
    "                    default=\"relu\")\n",
    "            )\n",
    "        )\n",
    "\n",
    "        model.add(\n",
    "                Dense(\n",
    "                units=hp.Int(\"units\", 2, 136, 8, default=2),\n",
    "                activation=hp.Choice(\n",
    "                    \"dense_activation\",\n",
    "                    values=[\"relu\", \"tanh\", \"softplus\"],\n",
    "                    default=\"relu\")\n",
    "            )\n",
    "        )\n",
    "\n",
    "        model.add(\n",
    "                Dropout(\n",
    "                hp.Float(\n",
    "                    'dropout',\n",
    "                    min_value=0.15,\n",
    "                    max_value=0.25,\n",
    "                    default=0.15,\n",
    "                    step=0.05)\n",
    "            )\n",
    "        )\n",
    "                \n",
    "        model.add(Dense(1))\n",
    "        \n",
    "        hp_learning_rate = hp.Choice(\"learning_rate\", values=[1e-1, 1e-2, 1e-3, 1e-4])\n",
    "        \n",
    "        model.compile(\n",
    "            loss=\"mse\", optimizer=Adam(learning_rate=hp_learning_rate), metrics=[\"mse\"]\n",
    "        )\n",
    "        \n",
    "        return model"
   ]
  },
  {
   "cell_type": "code",
   "execution_count": 32,
   "metadata": {},
   "outputs": [],
   "source": [
    "# Instantiate a hyper model\n",
    "input_shape = (X_train_sc.shape[1],)\n",
    "kr = krhypermodel(input_shape)"
   ]
  },
  {
   "cell_type": "markdown",
   "metadata": {},
   "source": [
    "#### 3.4.5.2 Hyperparameter Tuning Using Randomized Search"
   ]
  },
  {
   "cell_type": "code",
   "execution_count": 33,
   "metadata": {},
   "outputs": [
    {
     "name": "stdout",
     "output_type": "stream",
     "text": [
      "INFO:tensorflow:Reloading Oracle from existing project .\\untitled_project\\oracle.json\n",
      "INFO:tensorflow:Reloading Tuner from .\\untitled_project\\tuner0.json\n",
      "INFO:tensorflow:Oracle triggered exit\n"
     ]
    }
   ],
   "source": [
    "# Keras Tuner with Randomized Search\n",
    "tuner_rs = kt.RandomSearch(\n",
    "                kr,\n",
    "                objective=\"mse\",\n",
    "                max_trials=10,\n",
    "                seed=100,\n",
    "                executions_per_trial=2\n",
    "            )\n",
    "\n",
    "tuner_rs.search(X_train_sc, y_train, epochs=50, validation_split=0.3)\n",
    "kr_tuned = tuner_rs.get_best_models(num_models=1)[0]"
   ]
  },
  {
   "cell_type": "markdown",
   "metadata": {},
   "source": [
    "#### 3.4.5.3 Model Performance Assessment on Training and Validation Set"
   ]
  },
  {
   "cell_type": "code",
   "execution_count": 34,
   "metadata": {},
   "outputs": [
    {
     "name": "stdout",
     "output_type": "stream",
     "text": [
      "201/201 [==============================] - 1s 1ms/step - loss: 13.6793 - mse: 13.6793\n"
     ]
    },
    {
     "data": {
      "text/plain": [
       "[14.656538009643555, 14.656538009643555]"
      ]
     },
     "execution_count": 34,
     "metadata": {},
     "output_type": "execute_result"
    }
   ],
   "source": [
    "# Performance on the training set\n",
    "kr_tuned.evaluate(X_train_sc, y_train)"
   ]
  },
  {
   "cell_type": "code",
   "execution_count": 35,
   "metadata": {},
   "outputs": [
    {
     "name": "stdout",
     "output_type": "stream",
     "text": [
      "86/86 [==============================] - 0s 1ms/step - loss: 18.6879 - mse: 18.6879\n"
     ]
    },
    {
     "data": {
      "text/plain": [
       "[18.68787956237793, 18.68787956237793]"
      ]
     },
     "execution_count": 35,
     "metadata": {},
     "output_type": "execute_result"
    }
   ],
   "source": [
    "# Performance on the validation set\n",
    "kr_tuned.evaluate(X_validation_sc, y_validation)"
   ]
  },
  {
   "cell_type": "markdown",
   "metadata": {},
   "source": [
    "## 3.5 Refit Model on All Available Data "
   ]
  },
  {
   "cell_type": "code",
   "execution_count": 36,
   "metadata": {},
   "outputs": [],
   "source": [
    "# Set X_train and y_train again\n",
    "X_train = melanoma_data.drop(\"tumor_size\", axis=1)\n",
    "y_train = melanoma_data[\"tumor_size\"]"
   ]
  },
  {
   "cell_type": "code",
   "execution_count": 37,
   "metadata": {},
   "outputs": [],
   "source": [
    "# Standardize features\n",
    "sc = StandardScaler()\n",
    "\n",
    "X_train_sc = sc.fit_transform(X_train)"
   ]
  },
  {
   "cell_type": "markdown",
   "metadata": {},
   "source": [
    "### 3.5.1 Random Forest"
   ]
  },
  {
   "cell_type": "code",
   "execution_count": 38,
   "metadata": {},
   "outputs": [
    {
     "data": {
      "text/plain": [
       "RandomForestRegressor(random_state=100)"
      ]
     },
     "execution_count": 38,
     "metadata": {},
     "output_type": "execute_result"
    }
   ],
   "source": [
    "# Train the model again\n",
    "rf = RandomForestRegressor(random_state=100)\n",
    "rf.fit(X_train_sc, y_train)"
   ]
  },
  {
   "cell_type": "code",
   "execution_count": 39,
   "metadata": {},
   "outputs": [
    {
     "data": {
      "text/plain": [
       "RandomizedSearchCV(cv=3, estimator=RandomForestRegressor(random_state=100),\n",
       "                   n_iter=50, n_jobs=-1,\n",
       "                   param_distributions={'criterion': ['mse', 'mae'],\n",
       "                                        'max_depth': [5, 10, 15, 20, 30],\n",
       "                                        'max_features': ['auto', 'sqrt',\n",
       "                                                         'log2'],\n",
       "                                        'min_samples_leaf': [1, 2, 5, 8, 10],\n",
       "                                        'min_samples_split': [2, 5, 10, 15, 25],\n",
       "                                        'n_estimators': [20, 40, 60, 80, 100]},\n",
       "                   scoring='neg_mean_squared_error')"
      ]
     },
     "execution_count": 39,
     "metadata": {},
     "output_type": "execute_result"
    }
   ],
   "source": [
    "# Perform Randomized Search again\n",
    "rf_rs = RandomizedSearchCV(estimator=rf, param_distributions=rf_param_grid, n_iter=50, scoring=\"neg_mean_squared_error\",\n",
    "                           n_jobs=-1, cv=3)\n",
    "rf_rs.fit(X_train_sc, y_train)"
   ]
  },
  {
   "cell_type": "code",
   "execution_count": 40,
   "metadata": {},
   "outputs": [],
   "source": [
    "# Make predictions on the training set\n",
    "y_train_pred = rf_rs.best_estimator_.predict(X_train_sc)"
   ]
  },
  {
   "cell_type": "code",
   "execution_count": 41,
   "metadata": {},
   "outputs": [
    {
     "data": {
      "text/plain": [
       "0.9335487897521503"
      ]
     },
     "execution_count": 41,
     "metadata": {},
     "output_type": "execute_result"
    }
   ],
   "source": [
    "# R2\n",
    "r2_score(y_train, y_train_pred)"
   ]
  },
  {
   "cell_type": "code",
   "execution_count": 42,
   "metadata": {},
   "outputs": [
    {
     "data": {
      "text/plain": [
       "2.4617330532523436"
      ]
     },
     "execution_count": 42,
     "metadata": {},
     "output_type": "execute_result"
    }
   ],
   "source": [
    "# MSE\n",
    "mean_squared_error(y_train, y_train_pred)"
   ]
  },
  {
   "cell_type": "markdown",
   "metadata": {},
   "source": [
    "### 3.5.2 Keras Regression"
   ]
  },
  {
   "cell_type": "code",
   "execution_count": 43,
   "metadata": {},
   "outputs": [],
   "source": [
    "# Instantiate a hyper model again\n",
    "input_shape = (X_train_sc.shape[1],)\n",
    "kr = krhypermodel(input_shape)"
   ]
  },
  {
   "cell_type": "code",
   "execution_count": 44,
   "metadata": {},
   "outputs": [
    {
     "name": "stdout",
     "output_type": "stream",
     "text": [
      "INFO:tensorflow:Oracle triggered exit\n"
     ]
    }
   ],
   "source": [
    "# Perform Randomized Search again\n",
    "tuner_rs.search(X_train_sc, y_train, epochs=50, validation_split=0.3)\n",
    "kr_tuned = tuner_rs.get_best_models(num_models=1)[0]"
   ]
  },
  {
   "cell_type": "code",
   "execution_count": 45,
   "metadata": {},
   "outputs": [
    {
     "name": "stdout",
     "output_type": "stream",
     "text": [
      "286/286 [==============================] - 1s 1ms/step - loss: 15.1646 - mse: 15.1646\n"
     ]
    },
    {
     "data": {
      "text/plain": [
       "[15.807027816772461, 15.807027816772461]"
      ]
     },
     "execution_count": 45,
     "metadata": {},
     "output_type": "execute_result"
    }
   ],
   "source": [
    "# Performance on the training set\n",
    "kr_tuned.evaluate(X_train_sc, y_train)"
   ]
  },
  {
   "cell_type": "markdown",
   "metadata": {},
   "source": [
    "## 3.6 Performance Assessment on Unknown Data"
   ]
  },
  {
   "cell_type": "code",
   "execution_count": 46,
   "metadata": {},
   "outputs": [],
   "source": [
    "# Load the test data\n",
    "X_test = pd.read_csv(r\"C:\\Users\\lastr\\Desktop\\GitHub\\Melanoma_Capstone\\data\\test.csv\")\n",
    "y_test = pd.read_csv(r\"C:\\Users\\lastr\\Desktop\\GitHub\\Melanoma_Capstone\\data\\sample_submission.csv\")"
   ]
  },
  {
   "cell_type": "code",
   "execution_count": 47,
   "metadata": {},
   "outputs": [
    {
     "name": "stdout",
     "output_type": "stream",
     "text": [
      "<class 'pandas.core.frame.DataFrame'>\n",
      "RangeIndex: 36584 entries, 0 to 36583\n",
      "Data columns (total 9 columns):\n",
      " #   Column          Non-Null Count  Dtype  \n",
      "---  ------          --------------  -----  \n",
      " 0   mass_npea       36584 non-null  float64\n",
      " 1   size_npear      36584 non-null  float64\n",
      " 2   malign_ratio    36584 non-null  float64\n",
      " 3   damage_size     36584 non-null  float64\n",
      " 4   exposed_area    36584 non-null  float64\n",
      " 5   std_dev_malign  36584 non-null  float64\n",
      " 6   err_malign      36584 non-null  float64\n",
      " 7   malign_penalty  36584 non-null  int64  \n",
      " 8   damage_ratio    36584 non-null  float64\n",
      "dtypes: float64(8), int64(1)\n",
      "memory usage: 2.5 MB\n"
     ]
    }
   ],
   "source": [
    "# Summary of X_test\n",
    "X_test.info()"
   ]
  },
  {
   "cell_type": "code",
   "execution_count": 48,
   "metadata": {},
   "outputs": [
    {
     "data": {
      "text/html": [
       "<div>\n",
       "<style scoped>\n",
       "    .dataframe tbody tr th:only-of-type {\n",
       "        vertical-align: middle;\n",
       "    }\n",
       "\n",
       "    .dataframe tbody tr th {\n",
       "        vertical-align: top;\n",
       "    }\n",
       "\n",
       "    .dataframe thead th {\n",
       "        text-align: right;\n",
       "    }\n",
       "</style>\n",
       "<table border=\"1\" class=\"dataframe\">\n",
       "  <thead>\n",
       "    <tr style=\"text-align: right;\">\n",
       "      <th></th>\n",
       "      <th>mass_npea</th>\n",
       "      <th>size_npear</th>\n",
       "      <th>malign_ratio</th>\n",
       "      <th>damage_size</th>\n",
       "      <th>exposed_area</th>\n",
       "      <th>std_dev_malign</th>\n",
       "      <th>err_malign</th>\n",
       "      <th>malign_penalty</th>\n",
       "      <th>damage_ratio</th>\n",
       "    </tr>\n",
       "  </thead>\n",
       "  <tbody>\n",
       "    <tr>\n",
       "      <th>0</th>\n",
       "      <td>4946.44</td>\n",
       "      <td>914.06</td>\n",
       "      <td>0.18479</td>\n",
       "      <td>54.5566</td>\n",
       "      <td>6.628345e+05</td>\n",
       "      <td>67.0525</td>\n",
       "      <td>2301.76</td>\n",
       "      <td>22</td>\n",
       "      <td>41.9554</td>\n",
       "    </tr>\n",
       "    <tr>\n",
       "      <th>1</th>\n",
       "      <td>5613.85</td>\n",
       "      <td>1629.12</td>\n",
       "      <td>0.29019</td>\n",
       "      <td>51.5524</td>\n",
       "      <td>7.842271e+05</td>\n",
       "      <td>80.1986</td>\n",
       "      <td>3235.00</td>\n",
       "      <td>48</td>\n",
       "      <td>40.7410</td>\n",
       "    </tr>\n",
       "    <tr>\n",
       "      <th>2</th>\n",
       "      <td>12421.10</td>\n",
       "      <td>3062.41</td>\n",
       "      <td>0.24654</td>\n",
       "      <td>154.1560</td>\n",
       "      <td>1.763575e+06</td>\n",
       "      <td>186.8590</td>\n",
       "      <td>4684.63</td>\n",
       "      <td>63</td>\n",
       "      <td>29.4778</td>\n",
       "    </tr>\n",
       "    <tr>\n",
       "      <th>3</th>\n",
       "      <td>6830.77</td>\n",
       "      <td>2457.66</td>\n",
       "      <td>0.35979</td>\n",
       "      <td>56.8995</td>\n",
       "      <td>9.296623e+05</td>\n",
       "      <td>92.7361</td>\n",
       "      <td>3211.93</td>\n",
       "      <td>42</td>\n",
       "      <td>38.5027</td>\n",
       "    </tr>\n",
       "    <tr>\n",
       "      <th>4</th>\n",
       "      <td>33407.80</td>\n",
       "      <td>12353.60</td>\n",
       "      <td>0.36978</td>\n",
       "      <td>219.0740</td>\n",
       "      <td>4.595871e+06</td>\n",
       "      <td>493.3370</td>\n",
       "      <td>13389.36</td>\n",
       "      <td>187</td>\n",
       "      <td>26.8449</td>\n",
       "    </tr>\n",
       "  </tbody>\n",
       "</table>\n",
       "</div>"
      ],
      "text/plain": [
       "   mass_npea  size_npear  malign_ratio  damage_size  exposed_area  \\\n",
       "0    4946.44      914.06       0.18479      54.5566  6.628345e+05   \n",
       "1    5613.85     1629.12       0.29019      51.5524  7.842271e+05   \n",
       "2   12421.10     3062.41       0.24654     154.1560  1.763575e+06   \n",
       "3    6830.77     2457.66       0.35979      56.8995  9.296623e+05   \n",
       "4   33407.80    12353.60       0.36978     219.0740  4.595871e+06   \n",
       "\n",
       "   std_dev_malign  err_malign  malign_penalty  damage_ratio  \n",
       "0         67.0525     2301.76              22       41.9554  \n",
       "1         80.1986     3235.00              48       40.7410  \n",
       "2        186.8590     4684.63              63       29.4778  \n",
       "3         92.7361     3211.93              42       38.5027  \n",
       "4        493.3370    13389.36             187       26.8449  "
      ]
     },
     "execution_count": 48,
     "metadata": {},
     "output_type": "execute_result"
    }
   ],
   "source": [
    "# First 5 entries of X_test\n",
    "X_test.head()"
   ]
  },
  {
   "cell_type": "code",
   "execution_count": 49,
   "metadata": {},
   "outputs": [
    {
     "name": "stdout",
     "output_type": "stream",
     "text": [
      "<class 'pandas.core.frame.DataFrame'>\n",
      "RangeIndex: 36584 entries, 0 to 36583\n",
      "Data columns (total 1 columns):\n",
      " #   Column      Non-Null Count  Dtype  \n",
      "---  ------      --------------  -----  \n",
      " 0   tumor_size  36584 non-null  float64\n",
      "dtypes: float64(1)\n",
      "memory usage: 285.9 KB\n"
     ]
    }
   ],
   "source": [
    "# Summary of y_test\n",
    "y_test.info()"
   ]
  },
  {
   "cell_type": "code",
   "execution_count": 50,
   "metadata": {},
   "outputs": [
    {
     "data": {
      "text/html": [
       "<div>\n",
       "<style scoped>\n",
       "    .dataframe tbody tr th:only-of-type {\n",
       "        vertical-align: middle;\n",
       "    }\n",
       "\n",
       "    .dataframe tbody tr th {\n",
       "        vertical-align: top;\n",
       "    }\n",
       "\n",
       "    .dataframe thead th {\n",
       "        text-align: right;\n",
       "    }\n",
       "</style>\n",
       "<table border=\"1\" class=\"dataframe\">\n",
       "  <thead>\n",
       "    <tr style=\"text-align: right;\">\n",
       "      <th></th>\n",
       "      <th>tumor_size</th>\n",
       "    </tr>\n",
       "  </thead>\n",
       "  <tbody>\n",
       "    <tr>\n",
       "      <th>0</th>\n",
       "      <td>3.418762</td>\n",
       "    </tr>\n",
       "    <tr>\n",
       "      <th>1</th>\n",
       "      <td>7.348026</td>\n",
       "    </tr>\n",
       "    <tr>\n",
       "      <th>2</th>\n",
       "      <td>3.096391</td>\n",
       "    </tr>\n",
       "    <tr>\n",
       "      <th>3</th>\n",
       "      <td>10.489805</td>\n",
       "    </tr>\n",
       "    <tr>\n",
       "      <th>4</th>\n",
       "      <td>27.416072</td>\n",
       "    </tr>\n",
       "  </tbody>\n",
       "</table>\n",
       "</div>"
      ],
      "text/plain": [
       "   tumor_size\n",
       "0    3.418762\n",
       "1    7.348026\n",
       "2    3.096391\n",
       "3   10.489805\n",
       "4   27.416072"
      ]
     },
     "execution_count": 50,
     "metadata": {},
     "output_type": "execute_result"
    }
   ],
   "source": [
    "# First 5 entries of y_test\n",
    "y_test.head()"
   ]
  },
  {
   "cell_type": "code",
   "execution_count": 51,
   "metadata": {},
   "outputs": [],
   "source": [
    "# Standardize features\n",
    "X_test_sc = sc.transform(X_test)"
   ]
  },
  {
   "cell_type": "markdown",
   "metadata": {},
   "source": [
    "### 3.6.1 Random Forest"
   ]
  },
  {
   "cell_type": "code",
   "execution_count": 52,
   "metadata": {},
   "outputs": [],
   "source": [
    "# Make predictions on the test set\n",
    "y_test_pred = rf_rs.best_estimator_.predict(X_test_sc)"
   ]
  },
  {
   "cell_type": "code",
   "execution_count": 53,
   "metadata": {},
   "outputs": [
    {
     "data": {
      "text/plain": [
       "0.22657554455028006"
      ]
     },
     "execution_count": 53,
     "metadata": {},
     "output_type": "execute_result"
    }
   ],
   "source": [
    "# R2\n",
    "r2_score(y_test, y_test_pred)"
   ]
  },
  {
   "cell_type": "code",
   "execution_count": 54,
   "metadata": {},
   "outputs": [
    {
     "data": {
      "text/plain": [
       "8.24992187458954"
      ]
     },
     "execution_count": 54,
     "metadata": {},
     "output_type": "execute_result"
    }
   ],
   "source": [
    "# MSE\n",
    "mean_squared_error(y_test, y_test_pred)"
   ]
  },
  {
   "cell_type": "markdown",
   "metadata": {},
   "source": [
    "### 3.6.2 Keras Regression"
   ]
  },
  {
   "cell_type": "code",
   "execution_count": 55,
   "metadata": {},
   "outputs": [
    {
     "name": "stdout",
     "output_type": "stream",
     "text": [
      "1144/1144 [==============================] - 2s 2ms/step - loss: 12.1185 - mse: 12.1185\n"
     ]
    },
    {
     "data": {
      "text/plain": [
       "[12.118498802185059, 12.118498802185059]"
      ]
     },
     "execution_count": 55,
     "metadata": {},
     "output_type": "execute_result"
    }
   ],
   "source": [
    "# Performance on the test set\n",
    "kr_tuned.evaluate(X_test_sc, y_test)"
   ]
  },
  {
   "cell_type": "markdown",
   "metadata": {},
   "source": [
    "### 3.6.3 Random Forest Features of Importance"
   ]
  },
  {
   "cell_type": "code",
   "execution_count": 58,
   "metadata": {},
   "outputs": [
    {
     "data": {
      "text/plain": [
       "Text(0.5, 1.0, 'Random Forest Feature Importance')"
      ]
     },
     "execution_count": 58,
     "metadata": {},
     "output_type": "execute_result"
    },
    {
     "data": {
      "image/png": "[encoded data removed]",
      "text/plain": [
       "<Figure size 1296x576 with 1 Axes>"
      ]
     },
     "metadata": {
      "needs_background": "light"
     },
     "output_type": "display_data"
    }
   ],
   "source": [
    "# Random Forest Feature Importance Bar Plot\n",
    "plt.subplots(figsize=(18, 8))\n",
    "imps = rf_rs.best_estimator_.feature_importances_\n",
    "rf_feat_imps = pd.Series(imps, index=X_train.columns).sort_values(ascending=False)\n",
    "rf_feat_imps.plot(kind='bar')\n",
    "plt.xlabel(\"Features\")\n",
    "plt.ylabel(\"Importance\")\n",
    "plt.title(\"Random Forest Feature Importance\")"
   ]
  },
  {
   "cell_type": "markdown",
   "metadata": {},
   "source": [
    "## 3.7 Save the Best Model"
   ]
  },
  {
   "cell_type": "code",
   "execution_count": 59,
   "metadata": {},
   "outputs": [],
   "source": [
    "# Save the best model along with the relevant information\n",
    "best_model = rf_rs.best_estimator_\n",
    "best_model.version = \"0.1\"\n",
    "best_model.pandas_version = pd.__version__\n",
    "best_model.numpy_version = np.__version__\n",
    "best_model.sklearn_version = sklearn_version"
   ]
  },
  {
   "cell_type": "code",
   "execution_count": 60,
   "metadata": {},
   "outputs": [],
   "source": [
    "modelpath = r\"C:\\Users\\lastr\\Desktop\\GitHub\\Melanoma_Capstone\\models\"\n",
    "if not os.path.exists(modelpath):\n",
    "    os.mkdir(modelpath)\n",
    "melanoma_model_path = os.path.join(modelpath, \"melanoma_tumor_size_model.pkl\")\n",
    "if not os.path.exists(melanoma_model_path):\n",
    "    with open(melanoma_model_path, \"wb\") as f:\n",
    "        pickle.dump(best_model, f)"
   ]
  }
 ],
 "metadata": {
  "kernelspec": {
   "display_name": "Python 3",
   "language": "python",
   "name": "python3"
  }
 },
 "nbformat": 4,
 "nbformat_minor": 5
}
